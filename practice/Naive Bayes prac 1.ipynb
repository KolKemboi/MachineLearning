{
 "cells": [
  {
   "cell_type": "code",
   "execution_count": 1,
   "id": "dbd27aa7-6b89-4957-a938-c74cca377f9a",
   "metadata": {
    "tags": []
   },
   "outputs": [],
   "source": [
    "from matplotlib import pyplot as plt\n",
    "import numpy as np\n",
    "from sklearn import datasets\n",
    "from sklearn.model_selection import train_test_split as TTS"
   ]
  },
  {
   "cell_type": "code",
   "execution_count": 4,
   "id": "fc03d76c-8481-4834-a40f-e878b828afee",
   "metadata": {
    "tags": []
   },
   "outputs": [],
   "source": [
    "data, target = datasets.make_classification(n_samples = 100, n_features = 10, n_classes = 2, random_state = 2)"
   ]
  },
  {
   "cell_type": "code",
   "execution_count": 5,
   "id": "147cad89-759f-42f5-99f2-8aa8f7b6d9d5",
   "metadata": {
    "tags": []
   },
   "outputs": [],
   "source": [
    "data_train, data_test, target_train, target_test = TTS(data, target, train_size = 0.7, shuffle = True)"
   ]
  },
  {
   "cell_type": "code",
   "execution_count": null,
   "id": "46c70738-bd89-4a15-9a24-029a44e948a5",
   "metadata": {},
   "outputs": [],
   "source": []
  }
 ],
 "metadata": {
  "kernelspec": {
   "display_name": "Python 3 (ipykernel)",
   "language": "python",
   "name": "python3"
  },
  "language_info": {
   "codemirror_mode": {
    "name": "ipython",
    "version": 3
   },
   "file_extension": ".py",
   "mimetype": "text/x-python",
   "name": "python",
   "nbconvert_exporter": "python",
   "pygments_lexer": "ipython3",
   "version": "3.11.3"
  }
 },
 "nbformat": 4,
 "nbformat_minor": 5
}
