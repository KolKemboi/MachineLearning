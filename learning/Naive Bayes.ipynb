{
 "cells": [
  {
   "cell_type": "code",
   "execution_count": 81,
   "id": "e68935f0-ab8e-49b2-95f3-83ae1d1c8358",
   "metadata": {
    "tags": []
   },
   "outputs": [],
   "source": [
    "import numpy as np\n",
    "import matplotlib.pyplot as plt\n",
    "from sklearn import datasets\n",
    "from sklearn.model_selection import train_test_split as TTS"
   ]
  },
  {
   "cell_type": "code",
   "execution_count": 82,
   "id": "939f59bf-2f19-4017-9b0e-34d77218e1a3",
   "metadata": {
    "tags": []
   },
   "outputs": [],
   "source": [
    "data, target = datasets.make_classification(n_samples = 1000, n_features = 10, n_classes = 2, random_state = 123)"
   ]
  },
  {
   "cell_type": "code",
   "execution_count": 83,
   "id": "af2b3c91-b62f-433a-8e6b-b996c64ac36c",
   "metadata": {
    "tags": []
   },
   "outputs": [],
   "source": [
    "train_data, test_data, train_target, test_target = TTS(data, target, train_size = 0.8, shuffle = True)"
   ]
  },
  {
   "cell_type": "code",
   "execution_count": null,
   "id": "4234b91b-e2e6-4441-b4be-58ad04e9840f",
   "metadata": {},
   "outputs": [],
   "source": []
  },
  {
   "cell_type": "code",
   "execution_count": 84,
   "id": "c13344ba-4a15-41cb-9bb8-f84ceee3787e",
   "metadata": {
    "tags": []
   },
   "outputs": [],
   "source": [
    "class NB:\n",
    "    \n",
    "    def __init__(self, train_data, train_labels, test_data):\n",
    "        self.train_data = train_data\n",
    "        self.train_labels = train_labels\n",
    "        self.test_data = test_data\n",
    "        \n",
    "        \n",
    "    def fit(self):\n",
    "        n_samples, n_features = self.train_data.shape\n",
    "        self._classes = np.unique(self.train_labels)\n",
    "        n_classes = len(self._classes)\n",
    "        \n",
    "        self._mean = np.zeros((n_samples, n_features), dtype = np.float64)\n",
    "        self._var = np.zeros((n_samples, n_features), dtype = np.float64)\n",
    "        self._prior = np.zeros(n_classes, dtype = np.float64)\n",
    "        \n",
    "        for c in self._classes:\n",
    "            x_c = self.train_data[c == self.train_labels]\n",
    "            self._mean[c, :] = x_c.mean(axis = 0)\n",
    "            self._var[c, :] = x_c.var(axis = 0)\n",
    "            self._prior[c] = x_c.shape[0] / float(n_samples)\n",
    "            \n",
    "    \n",
    "    def predict(self):\n",
    "        target_pred = [self._predict(data) for data in self.test_data]\n",
    "        return target_pred\n",
    "        \n",
    "    def _predict(self, data):\n",
    "        posteriors = []\n",
    "        \n",
    "        for index, c in enumerate(self._classes):\n",
    "            prior = np.log(self._prior[index])\n",
    "            class_conditional = np.sum(np.log(self._pdf(index, self.test_data)))\n",
    "            posterior = prior * class_conditional\n",
    "            posteriors.append(posterior)\n",
    "            \n",
    "        return self._classes[np.argmax(posteriors)]\n",
    "            \n",
    "    def _pdf(self, class_index, data):\n",
    "        mean = self._mean[class_index]\n",
    "        var = self._var[class_index]\n",
    "        numerator = np.exp(- (data + mean)**2 / (2 * var))            \n",
    "        denom = np.sqrt(2 * np.pi * var)\n",
    "        return numerator/ denom\n",
    "    \n",
    "    "
   ]
  },
  {
   "cell_type": "code",
   "execution_count": 85,
   "id": "28a4de82-ea0a-4f9e-9658-573a329af01d",
   "metadata": {
    "tags": []
   },
   "outputs": [],
   "source": [
    "nb = NB(train_data = train_data, test_data = test_data, train_labels = train_target)"
   ]
  },
  {
   "cell_type": "code",
   "execution_count": 86,
   "id": "ab368bf9-bbf1-4483-9da5-27f0489ab51e",
   "metadata": {
    "tags": []
   },
   "outputs": [],
   "source": [
    "nb.fit()"
   ]
  },
  {
   "cell_type": "code",
   "execution_count": 87,
   "id": "70b5bb85-cb5b-4ef0-a5fd-206289aa6ad1",
   "metadata": {
    "tags": []
   },
   "outputs": [],
   "source": [
    "prediction = nb.predict()"
   ]
  },
  {
   "cell_type": "code",
   "execution_count": 88,
   "id": "b0d3b61b-b605-4efa-b0df-cb6cf47764c4",
   "metadata": {
    "tags": []
   },
   "outputs": [],
   "source": [
    "def accuracy(true_target,  predicted_target):\n",
    "    accuracy = np.sum(true_target - predicted_target) / len(true_target)\n",
    "    return accuracy"
   ]
  },
  {
   "cell_type": "code",
   "execution_count": 89,
   "id": "612b1281-e2e4-40a7-bb57-e4ce2b09deff",
   "metadata": {
    "tags": []
   },
   "outputs": [],
   "source": [
    "acc = accuracy(true_target = test_target,  predicted_target = prediction)"
   ]
  },
  {
   "cell_type": "code",
   "execution_count": 90,
   "id": "0c641819-2bea-4a82-a4b5-5e63367e373d",
   "metadata": {
    "tags": []
   },
   "outputs": [
    {
     "data": {
      "text/plain": [
       "0.5"
      ]
     },
     "execution_count": 90,
     "metadata": {},
     "output_type": "execute_result"
    }
   ],
   "source": [
    "acc"
   ]
  },
  {
   "cell_type": "code",
   "execution_count": null,
   "id": "90f9d913-ad76-4e67-bd14-a78dc4842352",
   "metadata": {},
   "outputs": [],
   "source": []
  }
 ],
 "metadata": {
  "kernelspec": {
   "display_name": "Python 3 (ipykernel)",
   "language": "python",
   "name": "python3"
  },
  "language_info": {
   "codemirror_mode": {
    "name": "ipython",
    "version": 3
   },
   "file_extension": ".py",
   "mimetype": "text/x-python",
   "name": "python",
   "nbconvert_exporter": "python",
   "pygments_lexer": "ipython3",
   "version": "3.11.3"
  }
 },
 "nbformat": 4,
 "nbformat_minor": 5
}
