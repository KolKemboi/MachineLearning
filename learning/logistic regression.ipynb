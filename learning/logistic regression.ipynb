{
 "cells": [
  {
   "cell_type": "code",
   "execution_count": 4,
   "id": "629d64e6-2589-4ff8-b5f2-16b458cd610f",
   "metadata": {
    "tags": []
   },
   "outputs": [],
   "source": [
    "import matplotlib.pyplot as plt"
   ]
  },
  {
   "cell_type": "code",
   "execution_count": 5,
   "id": "69580298-492d-4472-8470-2dd0b6d4d579",
   "metadata": {
    "tags": []
   },
   "outputs": [],
   "source": [
    "import numpy as np\n"
   ]
  },
  {
   "cell_type": "code",
   "execution_count": 6,
   "id": "d27590d1-8cf4-4b6c-aa25-4b0e2b319972",
   "metadata": {
    "tags": []
   },
   "outputs": [],
   "source": [
    "from sklearn import datasets\n",
    "from sklearn.model_selection import train_test_split as TTS"
   ]
  },
  {
   "cell_type": "code",
   "execution_count": 7,
   "id": "cc53b655-f3ef-48ca-93fb-447d23886443",
   "metadata": {
    "tags": []
   },
   "outputs": [],
   "source": [
    "data = datasets.load_breast_cancer()"
   ]
  },
  {
   "cell_type": "code",
   "execution_count": 8,
   "id": "fa8e0818-766d-44fa-a0c7-4258b6eb0b04",
   "metadata": {
    "tags": []
   },
   "outputs": [],
   "source": [
    "data, labels = data.data, data.target"
   ]
  },
  {
   "cell_type": "code",
   "execution_count": 9,
   "id": "c9133748-761d-441f-af1b-0da89961018a",
   "metadata": {
    "tags": []
   },
   "outputs": [],
   "source": [
    "train_data, test_data, train_label, tests_label = TTS(data, labels, train_size = 0.8, shuffle = True)"
   ]
  },
  {
   "cell_type": "code",
   "execution_count": 15,
   "id": "5cb22062-fa43-451d-95fc-1f166f298638",
   "metadata": {
    "tags": []
   },
   "outputs": [],
   "source": [
    "class LR:\n",
    "    \n",
    "    \n",
    "    def __init__(self, train_data, train_label, test_data, lr = 0.01, n_iters = 1000):\n",
    "        self.train_data = train_data\n",
    "        self.train_label = train_label\n",
    "        self.test_data = test_data\n",
    "        self.n_iters = n_iters\n",
    "        self.lr = lr\n",
    "        self.weights = None\n",
    "        self.bias = None\n",
    "        print(self.train_label.shape)\n",
    "    \n",
    "    def fit(self):\n",
    "        n_samples, n_features = self.train_data.shape\n",
    "        self.weights = np.zeros(n_features)\n",
    "        self.bias = 0\n",
    "        \n",
    "        for _ in range(self.n_iters):\n",
    "            linear_models = np.dot(self.train_data, self.weights) + self.bias\n",
    "            y_pred = self._loss(linear_models)\n",
    "            \n",
    "            \n",
    "            \n",
    "            dw = (1/ n_samples)* (np.dot(self.train_data.T, (y_pred - self.train_label)))\n",
    "            db = np.dot((1/ n_samples), (np.sum(y_pred - self.train_label)))\n",
    "            \n",
    "            self.weights -= self.lr * dw\n",
    "            self.bias -= self.lr * db\n",
    "            \n",
    "        \n",
    "    \n",
    "    def predict(self):\n",
    "        linear_models = np.dot(self.test_data, self.weights) + self.bias\n",
    "        y_pred = (self._loss(linear_models))\n",
    "        y_pred_sample = [1 if i > 0.5 else 0 for i in y_pred]\n",
    "        return y_pred_sample\n",
    "    \n",
    "    def _loss(self, val):\n",
    "        return (1/(1 + np.exp(-val)))"
   ]
  },
  {
   "cell_type": "code",
   "execution_count": 16,
   "id": "3e670cd5-0628-409e-8959-c357a5caea9a",
   "metadata": {
    "tags": []
   },
   "outputs": [
    {
     "name": "stdout",
     "output_type": "stream",
     "text": [
      "(455,)\n"
     ]
    }
   ],
   "source": [
    "log_reg = LR(train_data = train_data, train_label = train_label, test_data = test_data)"
   ]
  },
  {
   "cell_type": "code",
   "execution_count": 17,
   "id": "d627bf85-7450-4e29-82ff-e006108c5f8a",
   "metadata": {
    "tags": []
   },
   "outputs": [
    {
     "name": "stderr",
     "output_type": "stream",
     "text": [
      "C:\\Users\\Kol\\AppData\\Local\\Temp\\ipykernel_10276\\1639680987.py:39: RuntimeWarning: overflow encountered in exp\n",
      "  return (1/(1 + np.exp(-val)))\n"
     ]
    }
   ],
   "source": [
    "log_reg.fit()"
   ]
  },
  {
   "cell_type": "code",
   "execution_count": 13,
   "id": "4945f534-61df-4bad-8d7f-e4cf239c4e81",
   "metadata": {
    "tags": []
   },
   "outputs": [
    {
     "data": {
      "text/plain": [
       "(455, 30)"
      ]
     },
     "execution_count": 13,
     "metadata": {},
     "output_type": "execute_result"
    }
   ],
   "source": [
    "train_data.shape"
   ]
  },
  {
   "cell_type": "code",
   "execution_count": 14,
   "id": "c509a71c-0ad9-4bfe-9a6d-1cce704a7980",
   "metadata": {
    "tags": []
   },
   "outputs": [
    {
     "data": {
      "text/plain": [
       "(455,)"
      ]
     },
     "execution_count": 14,
     "metadata": {},
     "output_type": "execute_result"
    }
   ],
   "source": [
    "train_label.shape"
   ]
  },
  {
   "cell_type": "code",
   "execution_count": null,
   "id": "17a22f57-bd08-4f92-939d-5c6c32400cfa",
   "metadata": {},
   "outputs": [],
   "source": []
  },
  {
   "cell_type": "code",
   "execution_count": null,
   "id": "1e5c81a7-466c-4a8e-ba62-7f75ff8235e8",
   "metadata": {},
   "outputs": [],
   "source": []
  }
 ],
 "metadata": {
  "kernelspec": {
   "display_name": "Python 3 (ipykernel)",
   "language": "python",
   "name": "python3"
  },
  "language_info": {
   "codemirror_mode": {
    "name": "ipython",
    "version": 3
   },
   "file_extension": ".py",
   "mimetype": "text/x-python",
   "name": "python",
   "nbconvert_exporter": "python",
   "pygments_lexer": "ipython3",
   "version": "3.11.3"
  }
 },
 "nbformat": 4,
 "nbformat_minor": 5
}
