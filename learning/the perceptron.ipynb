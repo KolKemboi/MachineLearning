{
 "cells": [
  {
   "cell_type": "code",
   "execution_count": 1,
   "id": "a6109a50-39e2-4e2b-b9e6-2386052c9927",
   "metadata": {
    "tags": []
   },
   "outputs": [],
   "source": [
    "import numpy as np"
   ]
  },
  {
   "cell_type": "code",
   "execution_count": 19,
   "id": "9367d10e-9495-4598-bdcc-1f2c1a441e4d",
   "metadata": {
    "tags": []
   },
   "outputs": [],
   "source": [
    "class Perceptron:\n",
    "    \n",
    "    def __init__ (self, train_data, test_data, train_target, lr = 0.01, n_iters = 1000):\n",
    "        self.lr = lr\n",
    "        self.n_iters = n_iters\n",
    "        self.activation_func = self._unit_step_func\n",
    "        self.train_data = train_data\n",
    "        self.test_data = test_data\n",
    "        self.train_target = train_target\n",
    "        self.weights = None\n",
    "        self.bias = None\n",
    "        \n",
    "        \n",
    "    def fit(self):\n",
    "        n_samples, n_features = self.train_data.shape\n",
    "        \n",
    "        self.weights = np.zeros(n_features)\n",
    "        self.bias = 0\n",
    "        target_ = np.array([1 if i > 0 else 0 for i in self.train_target])\n",
    "        \n",
    "        for _ in range(self.n_iters):\n",
    "            for idx, train_i in enumerate(self.train_data):\n",
    "                lin_pred = np.dot(train_i, self.weights) + self.bias\n",
    "                predicted = self.activation_func(lin_pred)\n",
    "                \n",
    "                update = self.lr * (target_[idx] - predicted)\n",
    "                self.weights += update * train_i\n",
    "                self.bias += update \n",
    "    \n",
    "    def predict(self):\n",
    "        lin_pred = np.dot(self.test_data, self.weights) + self.bias\n",
    "        predicted = self.activation_func(lin_pred)\n",
    "        return predicted\n",
    "    \n",
    "    def _unit_step_func(self, predicted):\n",
    "        return np.where(predicted >= 0, 1, 0)"
   ]
  },
  {
   "cell_type": "code",
   "execution_count": 5,
   "id": "01a1bb92-dbca-4284-83ac-d404e1a9689e",
   "metadata": {
    "tags": []
   },
   "outputs": [],
   "source": [
    "from sklearn import datasets\n",
    "from sklearn.model_selection import train_test_split as TTS\n",
    "import matplotlib.pyplot as plt"
   ]
  },
  {
   "cell_type": "code",
   "execution_count": 6,
   "id": "f4d8127c-f662-4f99-afac-3dc0dc33fe43",
   "metadata": {
    "tags": []
   },
   "outputs": [],
   "source": [
    "data, target = datasets.make_blobs(n_samples = 150, n_features = 2, centers = 2, cluster_std = 1.05, random_state = 2)"
   ]
  },
  {
   "cell_type": "code",
   "execution_count": 7,
   "id": "4f665961-35b4-42b1-93d4-b5d334303312",
   "metadata": {
    "tags": []
   },
   "outputs": [],
   "source": [
    "train_data, test_data, train_target, test_target = TTS(data, target, train_size = 0.7, shuffle = True)"
   ]
  },
  {
   "cell_type": "code",
   "execution_count": 30,
   "id": "0d84a73a-f58c-458e-8b52-508bba87a1da",
   "metadata": {
    "tags": []
   },
   "outputs": [],
   "source": [
    "def accuracy(true, predicted):\n",
    "    acc = np.sum(true == predicted)/ len(true)\n",
    "    return acc"
   ]
  },
  {
   "cell_type": "code",
   "execution_count": 9,
   "id": "b15b7b23-6c38-4a6c-91cc-bf3901915248",
   "metadata": {
    "tags": []
   },
   "outputs": [
    {
     "data": {
      "text/plain": [
       "array([[ 1.57354644e+00, -2.17601731e+00],\n",
       "       [ 6.61771687e-01, -2.71105436e+00],\n",
       "       [-2.90411030e+00, -1.16682599e+01],\n",
       "       [-4.14163801e-01, -8.17085180e+00],\n",
       "       [-1.21184474e-01, -1.40749481e+00],\n",
       "       [-1.94651523e+00, -8.94765931e+00],\n",
       "       [ 6.02120538e-01, -9.93193935e+00],\n",
       "       [ 1.19440189e+00, -1.98887161e+00],\n",
       "       [-2.01362140e+00, -1.04568119e+01],\n",
       "       [ 2.82215236e+00, -1.76342807e+00],\n",
       "       [ 1.69068204e+00, -5.21923247e-01],\n",
       "       [-1.27170922e-01, -1.97912985e+00],\n",
       "       [-3.24949022e-01, -3.08480293e-01],\n",
       "       [-7.53151890e-01, -1.03678998e+01],\n",
       "       [-3.10495944e+00, -8.38861021e+00],\n",
       "       [-1.99166131e+00, -1.09928863e+01],\n",
       "       [-3.90196076e-01, -3.42042542e+00],\n",
       "       [ 1.37033956e+00, -6.40220712e-01],\n",
       "       [ 2.16363071e+00, -8.46207098e+00],\n",
       "       [-4.40962962e-01, -8.15573102e+00],\n",
       "       [-1.94963972e+00, -1.07284683e+01],\n",
       "       [ 1.12431439e+00, -4.99224897e-01],\n",
       "       [-1.68069426e+00, -9.41166190e+00],\n",
       "       [-1.05318015e+00, -1.14330184e+01],\n",
       "       [ 1.05336305e+00, -1.12650924e+00],\n",
       "       [-1.13128258e+00, -1.01218094e+00],\n",
       "       [ 1.39785819e+00, -1.10283073e+01],\n",
       "       [-5.49094079e-01, -8.74918828e+00],\n",
       "       [-2.15303534e-01, -1.74140074e+00],\n",
       "       [ 9.85268362e-01, -2.27407434e+00],\n",
       "       [-1.76520757e+00, -9.11304244e+00],\n",
       "       [-7.01075210e-01, -7.07465695e+00],\n",
       "       [ 2.60170010e-01, -1.04160339e+00],\n",
       "       [-1.15501512e-01, -1.13346390e+01],\n",
       "       [ 6.65365354e-01,  9.58359846e-01],\n",
       "       [ 1.24676117e+00, -7.71255216e-01],\n",
       "       [-2.21284571e-01,  2.18426780e-03],\n",
       "       [ 1.37655575e+00, -4.80766013e-01],\n",
       "       [-6.05043919e-02, -9.07609341e+00],\n",
       "       [-2.22746033e+00, -1.01019963e+01],\n",
       "       [-2.29717776e-01, -9.88162251e+00],\n",
       "       [ 1.18267985e+00, -7.12729660e-01],\n",
       "       [-1.67455485e+00, -9.55966966e+00],\n",
       "       [-3.16320932e+00, -1.03653101e+01],\n",
       "       [ 6.10546511e-01, -2.21333060e+00]])"
      ]
     },
     "execution_count": 9,
     "metadata": {},
     "output_type": "execute_result"
    }
   ],
   "source": [
    "test_data"
   ]
  },
  {
   "cell_type": "code",
   "execution_count": 10,
   "id": "fc9bffc2-a055-4753-b633-5fe228431ac8",
   "metadata": {
    "tags": []
   },
   "outputs": [
    {
     "data": {
      "text/plain": [
       "array([[  0.99093279,  -1.43980862],\n",
       "       [  2.60159789,  -3.37869021],\n",
       "       [ -0.94967461,  -0.94653968],\n",
       "       [ -2.03531849, -10.09406069],\n",
       "       [  1.86418091,  -0.63139908]])"
      ]
     },
     "execution_count": 10,
     "metadata": {},
     "output_type": "execute_result"
    }
   ],
   "source": [
    "train_data[:5]"
   ]
  },
  {
   "cell_type": "code",
   "execution_count": 15,
   "id": "2260d0a2-beeb-484f-836e-bcc1bd85a3f5",
   "metadata": {
    "tags": []
   },
   "outputs": [
    {
     "data": {
      "text/plain": [
       "<matplotlib.collections.PathCollection at 0x260bc961ed0>"
      ]
     },
     "execution_count": 15,
     "metadata": {},
     "output_type": "execute_result"
    },
    {
     "data": {
      "image/png": "[encoded data removed]",
      "text/plain": [
       "<Figure size 640x480 with 1 Axes>"
      ]
     },
     "metadata": {},
     "output_type": "display_data"
    }
   ],
   "source": [
    "plt.scatter(train_data[:, 1], train_target)"
   ]
  },
  {
   "cell_type": "code",
   "execution_count": 16,
   "id": "fab649f0-51ae-4dda-b839-4e4bdca4937f",
   "metadata": {
    "tags": []
   },
   "outputs": [],
   "source": [
    "plt.show()"
   ]
  },
  {
   "cell_type": "code",
   "execution_count": 20,
   "id": "461242cc-7c28-4936-82be-ea9ed6f5fbb5",
   "metadata": {
    "tags": []
   },
   "outputs": [],
   "source": [
    "node = Perceptron(train_data = train_data, test_data = test_data, train_target = train_target)"
   ]
  },
  {
   "cell_type": "code",
   "execution_count": 21,
   "id": "36671148-b397-4cd3-b89c-2902360b9c23",
   "metadata": {
    "tags": []
   },
   "outputs": [],
   "source": [
    "node.fit()"
   ]
  },
  {
   "cell_type": "code",
   "execution_count": 22,
   "id": "15ff448f-3ff7-40ca-8c8a-cfbc0f12fbfa",
   "metadata": {
    "tags": []
   },
   "outputs": [],
   "source": [
    "predicted = node.predict()"
   ]
  },
  {
   "cell_type": "code",
   "execution_count": 23,
   "id": "05795253-41b3-41ff-bea9-175baf26586f",
   "metadata": {
    "tags": []
   },
   "outputs": [
    {
     "data": {
      "text/plain": [
       "array([1, 1, 0, 0, 1, 0, 0, 1, 0, 1, 1, 1, 1, 0, 0, 0, 1, 1, 0, 0, 0, 1,\n",
       "       0, 0, 1, 1, 0, 0, 1, 1, 0, 0, 1, 0, 1, 1, 1, 1, 0, 0, 0, 1, 0, 0,\n",
       "       1])"
      ]
     },
     "execution_count": 23,
     "metadata": {},
     "output_type": "execute_result"
    }
   ],
   "source": [
    "predicted"
   ]
  },
  {
   "cell_type": "code",
   "execution_count": 31,
   "id": "215c853f-6e74-4103-844c-f7f7e3b1ea23",
   "metadata": {
    "tags": []
   },
   "outputs": [],
   "source": [
    "acc = accuracy(true = test_target, predicted = predicted)"
   ]
  },
  {
   "cell_type": "code",
   "execution_count": 32,
   "id": "040c653d-9182-485a-b4b3-c72bf5d2b48c",
   "metadata": {
    "tags": []
   },
   "outputs": [
    {
     "data": {
      "text/plain": [
       "1.0"
      ]
     },
     "execution_count": 32,
     "metadata": {},
     "output_type": "execute_result"
    }
   ],
   "source": [
    "acc"
   ]
  },
  {
   "cell_type": "code",
   "execution_count": null,
   "id": "510517ad-1543-40b7-bf0c-6f0663893d50",
   "metadata": {},
   "outputs": [],
   "source": []
  }
 ],
 "metadata": {
  "kernelspec": {
   "display_name": "Python 3 (ipykernel)",
   "language": "python",
   "name": "python3"
  },
  "language_info": {
   "codemirror_mode": {
    "name": "ipython",
    "version": 3
   },
   "file_extension": ".py",
   "mimetype": "text/x-python",
   "name": "python",
   "nbconvert_exporter": "python",
   "pygments_lexer": "ipython3",
   "version": "3.11.3"
  }
 },
 "nbformat": 4,
 "nbformat_minor": 5
}
