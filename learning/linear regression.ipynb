{
 "cells": [
  {
   "cell_type": "code",
   "execution_count": 1,
   "id": "7331ed83-37cf-4ab4-8303-9454620a6339",
   "metadata": {
    "tags": []
   },
   "outputs": [],
   "source": [
    "import numpy as np\n",
    "import matplotlib.pyplot as plt\n",
    "from sklearn.model_selection import train_test_split as TTS\n",
    "from sklearn import datasets\n",
    "from collections import Counter"
   ]
  },
  {
   "cell_type": "code",
   "execution_count": 2,
   "id": "3a2dafca-aaaf-49c4-8b31-250531b1d615",
   "metadata": {
    "tags": []
   },
   "outputs": [],
   "source": [
    "X, y = datasets.make_regression(n_samples = 100, n_features = 1, noise = 20, random_state = 4)\n",
    "x_train, x_test, y_train, y_test = TTS(X, y, train_size = 0.7, shuffle = True)"
   ]
  },
  {
   "cell_type": "code",
   "execution_count": 3,
   "id": "956c6b6f-de06-49b0-b6c9-2e2c4994f3b9",
   "metadata": {
    "tags": []
   },
   "outputs": [
    {
     "data": {
      "image/png": "[encoded data removed]",
      "text/plain": [
       "<Figure size 800x600 with 1 Axes>"
      ]
     },
     "metadata": {},
     "output_type": "display_data"
    }
   ],
   "source": [
    "fig = plt.figure(figsize = (8,6))\n",
    "plt.scatter(X[:, 0], y, color = \"b\", marker = \"o\", s = 30)\n",
    "plt.show()"
   ]
  },
  {
   "cell_type": "code",
   "execution_count": 4,
   "id": "63d94d69-e50a-4202-81c9-589eb15cf497",
   "metadata": {
    "tags": []
   },
   "outputs": [
    {
     "data": {
      "text/plain": [
       "(70, 1)"
      ]
     },
     "execution_count": 4,
     "metadata": {},
     "output_type": "execute_result"
    }
   ],
   "source": [
    "x_train.shape"
   ]
  },
  {
   "cell_type": "code",
   "execution_count": 5,
   "id": "d236ab30-79dd-4836-9ae3-ab16711a4563",
   "metadata": {
    "tags": []
   },
   "outputs": [
    {
     "data": {
      "text/plain": [
       "(70,)"
      ]
     },
     "execution_count": 5,
     "metadata": {},
     "output_type": "execute_result"
    }
   ],
   "source": [
    "y_train.shape"
   ]
  },
  {
   "cell_type": "code",
   "execution_count": 14,
   "id": "3c5b1153-c094-430f-a874-77a5e5b08ade",
   "metadata": {
    "tags": []
   },
   "outputs": [],
   "source": [
    "class LR:\n",
    "    def __init__(self, lr = 0.01, n_iters = 1000):\n",
    "        self.lr = lr\n",
    "        self.n_iters = n_iters\n",
    "        self.weights = None\n",
    "        self.bias = None\n",
    "        \n",
    "    def fit(self, x, y):\n",
    "        #init parameters\n",
    "        n_samples, n_features = x.shape\n",
    "        self.weights = np.zeros(n_features)\n",
    "        self.bias = 0\n",
    "        \n",
    "        for _ in range(self.n_iters):\n",
    "            y_predicted = np.dot(x, self.weights) + self.bias\n",
    "            \n",
    "            dw = (1/n_samples) * np.dot(x.T, (y_predicted - y))\n",
    "            db = (1/n_samples) * np.sum(y_predicted - y)\n",
    "            \n",
    "            self.weights -= self.lr * dw\n",
    "            self.bias -= self.lr * db\n",
    "    \n",
    "    def predict(self, x):\n",
    "        y_predicted = np.dot(x, self.weights) + self.bias\n",
    "        return y_predicted"
   ]
  },
  {
   "cell_type": "code",
   "execution_count": 15,
   "id": "8510ba54-6add-4715-951a-e11f4e9d3acb",
   "metadata": {
    "tags": []
   },
   "outputs": [],
   "source": [
    "def mse(y_true, y_predicted):\n",
    "    return np.mean((y_true - y_predicted)**2)"
   ]
  },
  {
   "cell_type": "code",
   "execution_count": 16,
   "id": "01d7afde-a090-4b26-909b-77660cd134fb",
   "metadata": {
    "tags": []
   },
   "outputs": [],
   "source": [
    "from tqdm import tqdm\n",
    "regressor = LR()\n",
    "regressor.fit(x_train, y_train)\n",
    "predicted = regressor.predict(x_test)"
   ]
  },
  {
   "cell_type": "code",
   "execution_count": 9,
   "id": "6e5eff1e-6522-4fd0-b0c4-a91dfacbb825",
   "metadata": {
    "tags": []
   },
   "outputs": [],
   "source": [
    "mse_val = mse(y_test, predicted)"
   ]
  },
  {
   "cell_type": "code",
   "execution_count": 10,
   "id": "9722b75e-7b88-48b2-9442-ecddab14af9c",
   "metadata": {
    "tags": []
   },
   "outputs": [
    {
     "data": {
      "text/plain": [
       "346.1709265652422"
      ]
     },
     "execution_count": 10,
     "metadata": {},
     "output_type": "execute_result"
    }
   ],
   "source": [
    "mse_val"
   ]
  },
  {
   "cell_type": "code",
   "execution_count": null,
   "id": "f306be30-833c-4dc9-b45d-e01dcae8f72e",
   "metadata": {},
   "outputs": [],
   "source": []
  },
  {
   "cell_type": "code",
   "execution_count": null,
   "id": "c35aa585-a6f7-4f22-afba-df4b8aa0780b",
   "metadata": {},
   "outputs": [],
   "source": []
  }
 ],
 "metadata": {
  "kernelspec": {
   "display_name": "Python 3 (ipykernel)",
   "language": "python",
   "name": "python3"
  },
  "language_info": {
   "codemirror_mode": {
    "name": "ipython",
    "version": 3
   },
   "file_extension": ".py",
   "mimetype": "text/x-python",
   "name": "python",
   "nbconvert_exporter": "python",
   "pygments_lexer": "ipython3",
   "version": "3.11.3"
  }
 },
 "nbformat": 4,
 "nbformat_minor": 5
}
