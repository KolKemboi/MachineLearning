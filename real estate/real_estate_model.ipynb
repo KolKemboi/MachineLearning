{
 "cells": [
  {
   "cell_type": "markdown",
   "id": "79b58a05-98c1-4765-ba84-f556e7afcb12",
   "metadata": {},
   "source": [
    "#### CLEANING OF DATA "
   ]
  },
  {
   "cell_type": "code",
   "execution_count": 1,
   "id": "c8661701-e2c7-477f-953a-a07e55e793ea",
   "metadata": {
    "tags": []
   },
   "outputs": [],
   "source": [
    "import pandas as pd\n",
    "import numpy as np\n",
    "from sklearn.preprocessing import LabelEncoder"
   ]
  },
  {
   "cell_type": "code",
   "execution_count": 2,
   "id": "67218226-1d8f-4ef4-a1f3-43755918dea9",
   "metadata": {
    "tags": []
   },
   "outputs": [],
   "source": [
    "df = pd.read_csv(\"Real Estate.csv\")"
   ]
  },
  {
   "cell_type": "code",
   "execution_count": 3,
   "id": "1cdf5991-7c1e-4b0a-ad2a-a50bea4df62f",
   "metadata": {
    "tags": []
   },
   "outputs": [
    {
     "data": {
      "text/html": [
       "<div>\n",
       "<style scoped>\n",
       "    .dataframe tbody tr th:only-of-type {\n",
       "        vertical-align: middle;\n",
       "    }\n",
       "\n",
       "    .dataframe tbody tr th {\n",
       "        vertical-align: top;\n",
       "    }\n",
       "\n",
       "    .dataframe thead th {\n",
       "        text-align: right;\n",
       "    }\n",
       "</style>\n",
       "<table border=\"1\" class=\"dataframe\">\n",
       "  <thead>\n",
       "    <tr style=\"text-align: right;\">\n",
       "      <th></th>\n",
       "      <th>No</th>\n",
       "      <th>X1 transaction date</th>\n",
       "      <th>X2 house age</th>\n",
       "      <th>X3 distance to the nearest MRT station</th>\n",
       "      <th>X4 number of convenience stores</th>\n",
       "      <th>X5 latitude</th>\n",
       "      <th>X6 longitude</th>\n",
       "      <th>Y house price of unit area</th>\n",
       "    </tr>\n",
       "  </thead>\n",
       "  <tbody>\n",
       "    <tr>\n",
       "      <th>0</th>\n",
       "      <td>1</td>\n",
       "      <td>2012.917</td>\n",
       "      <td>32.0</td>\n",
       "      <td>84.87882</td>\n",
       "      <td>10</td>\n",
       "      <td>24.98298</td>\n",
       "      <td>121.54024</td>\n",
       "      <td>37.9</td>\n",
       "    </tr>\n",
       "    <tr>\n",
       "      <th>1</th>\n",
       "      <td>2</td>\n",
       "      <td>2012.917</td>\n",
       "      <td>19.5</td>\n",
       "      <td>306.59470</td>\n",
       "      <td>9</td>\n",
       "      <td>24.98034</td>\n",
       "      <td>121.53951</td>\n",
       "      <td>42.2</td>\n",
       "    </tr>\n",
       "    <tr>\n",
       "      <th>2</th>\n",
       "      <td>3</td>\n",
       "      <td>2013.583</td>\n",
       "      <td>13.3</td>\n",
       "      <td>561.98450</td>\n",
       "      <td>5</td>\n",
       "      <td>24.98746</td>\n",
       "      <td>121.54391</td>\n",
       "      <td>47.3</td>\n",
       "    </tr>\n",
       "    <tr>\n",
       "      <th>3</th>\n",
       "      <td>4</td>\n",
       "      <td>2013.500</td>\n",
       "      <td>13.3</td>\n",
       "      <td>561.98450</td>\n",
       "      <td>5</td>\n",
       "      <td>24.98746</td>\n",
       "      <td>121.54391</td>\n",
       "      <td>54.8</td>\n",
       "    </tr>\n",
       "    <tr>\n",
       "      <th>4</th>\n",
       "      <td>5</td>\n",
       "      <td>2012.833</td>\n",
       "      <td>5.0</td>\n",
       "      <td>390.56840</td>\n",
       "      <td>5</td>\n",
       "      <td>24.97937</td>\n",
       "      <td>121.54245</td>\n",
       "      <td>43.1</td>\n",
       "    </tr>\n",
       "  </tbody>\n",
       "</table>\n",
       "</div>"
      ],
      "text/plain": [
       "   No  X1 transaction date  X2 house age   \n",
       "0   1             2012.917          32.0  \\\n",
       "1   2             2012.917          19.5   \n",
       "2   3             2013.583          13.3   \n",
       "3   4             2013.500          13.3   \n",
       "4   5             2012.833           5.0   \n",
       "\n",
       "   X3 distance to the nearest MRT station  X4 number of convenience stores   \n",
       "0                                84.87882                               10  \\\n",
       "1                               306.59470                                9   \n",
       "2                               561.98450                                5   \n",
       "3                               561.98450                                5   \n",
       "4                               390.56840                                5   \n",
       "\n",
       "   X5 latitude  X6 longitude  Y house price of unit area  \n",
       "0     24.98298     121.54024                        37.9  \n",
       "1     24.98034     121.53951                        42.2  \n",
       "2     24.98746     121.54391                        47.3  \n",
       "3     24.98746     121.54391                        54.8  \n",
       "4     24.97937     121.54245                        43.1  "
      ]
     },
     "execution_count": 3,
     "metadata": {},
     "output_type": "execute_result"
    }
   ],
   "source": [
    "df.head()"
   ]
  },
  {
   "cell_type": "code",
   "execution_count": 4,
   "id": "fe3de9d5-4868-49ef-a5ce-a2aa68edc174",
   "metadata": {
    "tags": []
   },
   "outputs": [
    {
     "name": "stdout",
     "output_type": "stream",
     "text": [
      "<class 'pandas.core.frame.DataFrame'>\n",
      "RangeIndex: 414 entries, 0 to 413\n",
      "Data columns (total 8 columns):\n",
      " #   Column                                  Non-Null Count  Dtype  \n",
      "---  ------                                  --------------  -----  \n",
      " 0   No                                      414 non-null    int64  \n",
      " 1   X1 transaction date                     414 non-null    float64\n",
      " 2   X2 house age                            414 non-null    float64\n",
      " 3   X3 distance to the nearest MRT station  414 non-null    float64\n",
      " 4   X4 number of convenience stores         414 non-null    int64  \n",
      " 5   X5 latitude                             414 non-null    float64\n",
      " 6   X6 longitude                            414 non-null    float64\n",
      " 7   Y house price of unit area              414 non-null    float64\n",
      "dtypes: float64(6), int64(2)\n",
      "memory usage: 26.0 KB\n"
     ]
    }
   ],
   "source": [
    "df.info()"
   ]
  },
  {
   "cell_type": "code",
   "execution_count": 5,
   "id": "d5b38eb5-2769-4f59-b514-c9d3e862b0d1",
   "metadata": {
    "tags": []
   },
   "outputs": [
    {
     "data": {
      "text/html": [
       "<div>\n",
       "<style scoped>\n",
       "    .dataframe tbody tr th:only-of-type {\n",
       "        vertical-align: middle;\n",
       "    }\n",
       "\n",
       "    .dataframe tbody tr th {\n",
       "        vertical-align: top;\n",
       "    }\n",
       "\n",
       "    .dataframe thead th {\n",
       "        text-align: right;\n",
       "    }\n",
       "</style>\n",
       "<table border=\"1\" class=\"dataframe\">\n",
       "  <thead>\n",
       "    <tr style=\"text-align: right;\">\n",
       "      <th></th>\n",
       "      <th>count</th>\n",
       "      <th>mean</th>\n",
       "      <th>std</th>\n",
       "      <th>min</th>\n",
       "      <th>25%</th>\n",
       "      <th>50%</th>\n",
       "      <th>75%</th>\n",
       "      <th>max</th>\n",
       "    </tr>\n",
       "  </thead>\n",
       "  <tbody>\n",
       "    <tr>\n",
       "      <th>No</th>\n",
       "      <td>414.0</td>\n",
       "      <td>207.500000</td>\n",
       "      <td>119.655756</td>\n",
       "      <td>1.00000</td>\n",
       "      <td>104.250000</td>\n",
       "      <td>207.50000</td>\n",
       "      <td>310.750000</td>\n",
       "      <td>414.00000</td>\n",
       "    </tr>\n",
       "    <tr>\n",
       "      <th>X1 transaction date</th>\n",
       "      <td>414.0</td>\n",
       "      <td>2013.148971</td>\n",
       "      <td>0.281967</td>\n",
       "      <td>2012.66700</td>\n",
       "      <td>2012.917000</td>\n",
       "      <td>2013.16700</td>\n",
       "      <td>2013.417000</td>\n",
       "      <td>2013.58300</td>\n",
       "    </tr>\n",
       "    <tr>\n",
       "      <th>X2 house age</th>\n",
       "      <td>414.0</td>\n",
       "      <td>17.712560</td>\n",
       "      <td>11.392485</td>\n",
       "      <td>0.00000</td>\n",
       "      <td>9.025000</td>\n",
       "      <td>16.10000</td>\n",
       "      <td>28.150000</td>\n",
       "      <td>43.80000</td>\n",
       "    </tr>\n",
       "    <tr>\n",
       "      <th>X3 distance to the nearest MRT station</th>\n",
       "      <td>414.0</td>\n",
       "      <td>1083.885689</td>\n",
       "      <td>1262.109595</td>\n",
       "      <td>23.38284</td>\n",
       "      <td>289.324800</td>\n",
       "      <td>492.23130</td>\n",
       "      <td>1454.279000</td>\n",
       "      <td>6488.02100</td>\n",
       "    </tr>\n",
       "    <tr>\n",
       "      <th>X4 number of convenience stores</th>\n",
       "      <td>414.0</td>\n",
       "      <td>4.094203</td>\n",
       "      <td>2.945562</td>\n",
       "      <td>0.00000</td>\n",
       "      <td>1.000000</td>\n",
       "      <td>4.00000</td>\n",
       "      <td>6.000000</td>\n",
       "      <td>10.00000</td>\n",
       "    </tr>\n",
       "    <tr>\n",
       "      <th>X5 latitude</th>\n",
       "      <td>414.0</td>\n",
       "      <td>24.969030</td>\n",
       "      <td>0.012410</td>\n",
       "      <td>24.93207</td>\n",
       "      <td>24.963000</td>\n",
       "      <td>24.97110</td>\n",
       "      <td>24.977455</td>\n",
       "      <td>25.01459</td>\n",
       "    </tr>\n",
       "    <tr>\n",
       "      <th>X6 longitude</th>\n",
       "      <td>414.0</td>\n",
       "      <td>121.533361</td>\n",
       "      <td>0.015347</td>\n",
       "      <td>121.47353</td>\n",
       "      <td>121.528085</td>\n",
       "      <td>121.53863</td>\n",
       "      <td>121.543305</td>\n",
       "      <td>121.56627</td>\n",
       "    </tr>\n",
       "    <tr>\n",
       "      <th>Y house price of unit area</th>\n",
       "      <td>414.0</td>\n",
       "      <td>37.980193</td>\n",
       "      <td>13.606488</td>\n",
       "      <td>7.60000</td>\n",
       "      <td>27.700000</td>\n",
       "      <td>38.45000</td>\n",
       "      <td>46.600000</td>\n",
       "      <td>117.50000</td>\n",
       "    </tr>\n",
       "  </tbody>\n",
       "</table>\n",
       "</div>"
      ],
      "text/plain": [
       "                                        count         mean          std   \n",
       "No                                      414.0   207.500000   119.655756  \\\n",
       "X1 transaction date                     414.0  2013.148971     0.281967   \n",
       "X2 house age                            414.0    17.712560    11.392485   \n",
       "X3 distance to the nearest MRT station  414.0  1083.885689  1262.109595   \n",
       "X4 number of convenience stores         414.0     4.094203     2.945562   \n",
       "X5 latitude                             414.0    24.969030     0.012410   \n",
       "X6 longitude                            414.0   121.533361     0.015347   \n",
       "Y house price of unit area              414.0    37.980193    13.606488   \n",
       "\n",
       "                                               min          25%         50%   \n",
       "No                                         1.00000   104.250000   207.50000  \\\n",
       "X1 transaction date                     2012.66700  2012.917000  2013.16700   \n",
       "X2 house age                               0.00000     9.025000    16.10000   \n",
       "X3 distance to the nearest MRT station    23.38284   289.324800   492.23130   \n",
       "X4 number of convenience stores            0.00000     1.000000     4.00000   \n",
       "X5 latitude                               24.93207    24.963000    24.97110   \n",
       "X6 longitude                             121.47353   121.528085   121.53863   \n",
       "Y house price of unit area                 7.60000    27.700000    38.45000   \n",
       "\n",
       "                                                75%         max  \n",
       "No                                       310.750000   414.00000  \n",
       "X1 transaction date                     2013.417000  2013.58300  \n",
       "X2 house age                              28.150000    43.80000  \n",
       "X3 distance to the nearest MRT station  1454.279000  6488.02100  \n",
       "X4 number of convenience stores            6.000000    10.00000  \n",
       "X5 latitude                               24.977455    25.01459  \n",
       "X6 longitude                             121.543305   121.56627  \n",
       "Y house price of unit area                46.600000   117.50000  "
      ]
     },
     "execution_count": 5,
     "metadata": {},
     "output_type": "execute_result"
    }
   ],
   "source": [
    "df.describe().transpose()"
   ]
  },
  {
   "cell_type": "code",
   "execution_count": 6,
   "id": "101df38b-907f-4de3-b24a-f90a24bc76cc",
   "metadata": {
    "tags": []
   },
   "outputs": [],
   "source": [
    "columns = df.columns"
   ]
  },
  {
   "cell_type": "code",
   "execution_count": 7,
   "id": "491f1be7-a8a9-4f9f-86dd-68581d984b83",
   "metadata": {
    "tags": []
   },
   "outputs": [
    {
     "data": {
      "text/plain": [
       "Index(['No', 'X1 transaction date', 'X2 house age',\n",
       "       'X3 distance to the nearest MRT station',\n",
       "       'X4 number of convenience stores', 'X5 latitude', 'X6 longitude',\n",
       "       'Y house price of unit area'],\n",
       "      dtype='object')"
      ]
     },
     "execution_count": 7,
     "metadata": {},
     "output_type": "execute_result"
    }
   ],
   "source": [
    "columns"
   ]
  },
  {
   "cell_type": "code",
   "execution_count": 8,
   "id": "0d53ee29-b6aa-4fab-870d-591933b29ad6",
   "metadata": {
    "tags": []
   },
   "outputs": [],
   "source": [
    "schema = {\n",
    "    \"No\" : \"no\",\n",
    "    \"X1 transaction date\" : \"tran-date\",\n",
    "    \"X2 house age\" : \"age\",\n",
    "    \"X3 distance to the nearest MRT station\": \"dist-station\",\n",
    "    \"X4 number of convenience stores\": \"conv-stores\",\n",
    "    \"X5 latitude\": \"lat\",\n",
    "    \"X6 longitude\": \"long\",\n",
    "    \"Y house price of unit area\": \"house-price\"\n",
    "}"
   ]
  },
  {
   "cell_type": "code",
   "execution_count": 9,
   "id": "fc71fbbb-9df5-41f8-b163-01e35c22b3cc",
   "metadata": {
    "tags": []
   },
   "outputs": [],
   "source": [
    "df = df.rename(columns = schema)\n"
   ]
  },
  {
   "cell_type": "code",
   "execution_count": 10,
   "id": "bb2627ff-1968-479c-b3fa-2206d1dd29c5",
   "metadata": {
    "tags": []
   },
   "outputs": [
    {
     "data": {
      "text/html": [
       "<div>\n",
       "<style scoped>\n",
       "    .dataframe tbody tr th:only-of-type {\n",
       "        vertical-align: middle;\n",
       "    }\n",
       "\n",
       "    .dataframe tbody tr th {\n",
       "        vertical-align: top;\n",
       "    }\n",
       "\n",
       "    .dataframe thead th {\n",
       "        text-align: right;\n",
       "    }\n",
       "</style>\n",
       "<table border=\"1\" class=\"dataframe\">\n",
       "  <thead>\n",
       "    <tr style=\"text-align: right;\">\n",
       "      <th></th>\n",
       "      <th>no</th>\n",
       "      <th>tran-date</th>\n",
       "      <th>age</th>\n",
       "      <th>dist-station</th>\n",
       "      <th>conv-stores</th>\n",
       "      <th>lat</th>\n",
       "      <th>long</th>\n",
       "      <th>house-price</th>\n",
       "    </tr>\n",
       "  </thead>\n",
       "  <tbody>\n",
       "    <tr>\n",
       "      <th>0</th>\n",
       "      <td>1</td>\n",
       "      <td>2012.917</td>\n",
       "      <td>32.0</td>\n",
       "      <td>84.87882</td>\n",
       "      <td>10</td>\n",
       "      <td>24.98298</td>\n",
       "      <td>121.54024</td>\n",
       "      <td>37.9</td>\n",
       "    </tr>\n",
       "    <tr>\n",
       "      <th>1</th>\n",
       "      <td>2</td>\n",
       "      <td>2012.917</td>\n",
       "      <td>19.5</td>\n",
       "      <td>306.59470</td>\n",
       "      <td>9</td>\n",
       "      <td>24.98034</td>\n",
       "      <td>121.53951</td>\n",
       "      <td>42.2</td>\n",
       "    </tr>\n",
       "    <tr>\n",
       "      <th>2</th>\n",
       "      <td>3</td>\n",
       "      <td>2013.583</td>\n",
       "      <td>13.3</td>\n",
       "      <td>561.98450</td>\n",
       "      <td>5</td>\n",
       "      <td>24.98746</td>\n",
       "      <td>121.54391</td>\n",
       "      <td>47.3</td>\n",
       "    </tr>\n",
       "    <tr>\n",
       "      <th>3</th>\n",
       "      <td>4</td>\n",
       "      <td>2013.500</td>\n",
       "      <td>13.3</td>\n",
       "      <td>561.98450</td>\n",
       "      <td>5</td>\n",
       "      <td>24.98746</td>\n",
       "      <td>121.54391</td>\n",
       "      <td>54.8</td>\n",
       "    </tr>\n",
       "    <tr>\n",
       "      <th>4</th>\n",
       "      <td>5</td>\n",
       "      <td>2012.833</td>\n",
       "      <td>5.0</td>\n",
       "      <td>390.56840</td>\n",
       "      <td>5</td>\n",
       "      <td>24.97937</td>\n",
       "      <td>121.54245</td>\n",
       "      <td>43.1</td>\n",
       "    </tr>\n",
       "  </tbody>\n",
       "</table>\n",
       "</div>"
      ],
      "text/plain": [
       "   no  tran-date   age  dist-station  conv-stores       lat       long   \n",
       "0   1   2012.917  32.0      84.87882           10  24.98298  121.54024  \\\n",
       "1   2   2012.917  19.5     306.59470            9  24.98034  121.53951   \n",
       "2   3   2013.583  13.3     561.98450            5  24.98746  121.54391   \n",
       "3   4   2013.500  13.3     561.98450            5  24.98746  121.54391   \n",
       "4   5   2012.833   5.0     390.56840            5  24.97937  121.54245   \n",
       "\n",
       "   house-price  \n",
       "0         37.9  \n",
       "1         42.2  \n",
       "2         47.3  \n",
       "3         54.8  \n",
       "4         43.1  "
      ]
     },
     "execution_count": 10,
     "metadata": {},
     "output_type": "execute_result"
    }
   ],
   "source": [
    "df.head()"
   ]
  },
  {
   "cell_type": "code",
   "execution_count": 12,
   "id": "3f74644c-80d4-4cc3-b59b-4759d18e52fe",
   "metadata": {},
   "outputs": [],
   "source": [
    "target = df[\"house-price\"]\n",
    "data = df.drop([\"no\", \"house-price\"], axis = 1)"
   ]
  },
  {
   "cell_type": "code",
   "execution_count": 13,
   "id": "5abe432f-872a-41a2-867c-1a90ac71ea41",
   "metadata": {
    "tags": []
   },
   "outputs": [
    {
     "data": {
      "text/html": [
       "<div>\n",
       "<style scoped>\n",
       "    .dataframe tbody tr th:only-of-type {\n",
       "        vertical-align: middle;\n",
       "    }\n",
       "\n",
       "    .dataframe tbody tr th {\n",
       "        vertical-align: top;\n",
       "    }\n",
       "\n",
       "    .dataframe thead th {\n",
       "        text-align: right;\n",
       "    }\n",
       "</style>\n",
       "<table border=\"1\" class=\"dataframe\">\n",
       "  <thead>\n",
       "    <tr style=\"text-align: right;\">\n",
       "      <th></th>\n",
       "      <th>tran-date</th>\n",
       "      <th>age</th>\n",
       "      <th>dist-station</th>\n",
       "      <th>conv-stores</th>\n",
       "      <th>lat</th>\n",
       "      <th>long</th>\n",
       "    </tr>\n",
       "  </thead>\n",
       "  <tbody>\n",
       "    <tr>\n",
       "      <th>0</th>\n",
       "      <td>2012.917</td>\n",
       "      <td>32.0</td>\n",
       "      <td>84.87882</td>\n",
       "      <td>10</td>\n",
       "      <td>24.98298</td>\n",
       "      <td>121.54024</td>\n",
       "    </tr>\n",
       "    <tr>\n",
       "      <th>1</th>\n",
       "      <td>2012.917</td>\n",
       "      <td>19.5</td>\n",
       "      <td>306.59470</td>\n",
       "      <td>9</td>\n",
       "      <td>24.98034</td>\n",
       "      <td>121.53951</td>\n",
       "    </tr>\n",
       "    <tr>\n",
       "      <th>2</th>\n",
       "      <td>2013.583</td>\n",
       "      <td>13.3</td>\n",
       "      <td>561.98450</td>\n",
       "      <td>5</td>\n",
       "      <td>24.98746</td>\n",
       "      <td>121.54391</td>\n",
       "    </tr>\n",
       "    <tr>\n",
       "      <th>3</th>\n",
       "      <td>2013.500</td>\n",
       "      <td>13.3</td>\n",
       "      <td>561.98450</td>\n",
       "      <td>5</td>\n",
       "      <td>24.98746</td>\n",
       "      <td>121.54391</td>\n",
       "    </tr>\n",
       "    <tr>\n",
       "      <th>4</th>\n",
       "      <td>2012.833</td>\n",
       "      <td>5.0</td>\n",
       "      <td>390.56840</td>\n",
       "      <td>5</td>\n",
       "      <td>24.97937</td>\n",
       "      <td>121.54245</td>\n",
       "    </tr>\n",
       "    <tr>\n",
       "      <th>...</th>\n",
       "      <td>...</td>\n",
       "      <td>...</td>\n",
       "      <td>...</td>\n",
       "      <td>...</td>\n",
       "      <td>...</td>\n",
       "      <td>...</td>\n",
       "    </tr>\n",
       "    <tr>\n",
       "      <th>409</th>\n",
       "      <td>2013.000</td>\n",
       "      <td>13.7</td>\n",
       "      <td>4082.01500</td>\n",
       "      <td>0</td>\n",
       "      <td>24.94155</td>\n",
       "      <td>121.50381</td>\n",
       "    </tr>\n",
       "    <tr>\n",
       "      <th>410</th>\n",
       "      <td>2012.667</td>\n",
       "      <td>5.6</td>\n",
       "      <td>90.45606</td>\n",
       "      <td>9</td>\n",
       "      <td>24.97433</td>\n",
       "      <td>121.54310</td>\n",
       "    </tr>\n",
       "    <tr>\n",
       "      <th>411</th>\n",
       "      <td>2013.250</td>\n",
       "      <td>18.8</td>\n",
       "      <td>390.96960</td>\n",
       "      <td>7</td>\n",
       "      <td>24.97923</td>\n",
       "      <td>121.53986</td>\n",
       "    </tr>\n",
       "    <tr>\n",
       "      <th>412</th>\n",
       "      <td>2013.000</td>\n",
       "      <td>8.1</td>\n",
       "      <td>104.81010</td>\n",
       "      <td>5</td>\n",
       "      <td>24.96674</td>\n",
       "      <td>121.54067</td>\n",
       "    </tr>\n",
       "    <tr>\n",
       "      <th>413</th>\n",
       "      <td>2013.500</td>\n",
       "      <td>6.5</td>\n",
       "      <td>90.45606</td>\n",
       "      <td>9</td>\n",
       "      <td>24.97433</td>\n",
       "      <td>121.54310</td>\n",
       "    </tr>\n",
       "  </tbody>\n",
       "</table>\n",
       "<p>414 rows × 6 columns</p>\n",
       "</div>"
      ],
      "text/plain": [
       "     tran-date   age  dist-station  conv-stores       lat       long\n",
       "0     2012.917  32.0      84.87882           10  24.98298  121.54024\n",
       "1     2012.917  19.5     306.59470            9  24.98034  121.53951\n",
       "2     2013.583  13.3     561.98450            5  24.98746  121.54391\n",
       "3     2013.500  13.3     561.98450            5  24.98746  121.54391\n",
       "4     2012.833   5.0     390.56840            5  24.97937  121.54245\n",
       "..         ...   ...           ...          ...       ...        ...\n",
       "409   2013.000  13.7    4082.01500            0  24.94155  121.50381\n",
       "410   2012.667   5.6      90.45606            9  24.97433  121.54310\n",
       "411   2013.250  18.8     390.96960            7  24.97923  121.53986\n",
       "412   2013.000   8.1     104.81010            5  24.96674  121.54067\n",
       "413   2013.500   6.5      90.45606            9  24.97433  121.54310\n",
       "\n",
       "[414 rows x 6 columns]"
      ]
     },
     "execution_count": 13,
     "metadata": {},
     "output_type": "execute_result"
    }
   ],
   "source": [
    "data"
   ]
  },
  {
   "cell_type": "code",
   "execution_count": 14,
   "id": "68b0cd76-7898-487f-83d4-d34ae60c2890",
   "metadata": {
    "tags": []
   },
   "outputs": [
    {
     "data": {
      "text/plain": [
       "0      37.9\n",
       "1      42.2\n",
       "2      47.3\n",
       "3      54.8\n",
       "4      43.1\n",
       "       ... \n",
       "409    15.4\n",
       "410    50.0\n",
       "411    40.6\n",
       "412    52.5\n",
       "413    63.9\n",
       "Name: house-price, Length: 414, dtype: float64"
      ]
     },
     "execution_count": 14,
     "metadata": {},
     "output_type": "execute_result"
    }
   ],
   "source": [
    "target"
   ]
  },
  {
   "cell_type": "code",
   "execution_count": 15,
   "id": "659e862f-da54-4cc6-b94b-60a4e24b8d17",
   "metadata": {
    "tags": []
   },
   "outputs": [],
   "source": [
    "data = data.to_numpy()\n",
    "target = target.to_numpy()"
   ]
  },
  {
   "cell_type": "code",
   "execution_count": 16,
   "id": "e353dc44-11c8-4cb2-b7f1-4ad2de19315d",
   "metadata": {
    "tags": []
   },
   "outputs": [
    {
     "data": {
      "text/plain": [
       "array([[2012.917  ,   32.     ,   84.87882,   10.     ,   24.98298,\n",
       "         121.54024],\n",
       "       [2012.917  ,   19.5    ,  306.5947 ,    9.     ,   24.98034,\n",
       "         121.53951],\n",
       "       [2013.583  ,   13.3    ,  561.9845 ,    5.     ,   24.98746,\n",
       "         121.54391],\n",
       "       ...,\n",
       "       [2013.25   ,   18.8    ,  390.9696 ,    7.     ,   24.97923,\n",
       "         121.53986],\n",
       "       [2013.     ,    8.1    ,  104.8101 ,    5.     ,   24.96674,\n",
       "         121.54067],\n",
       "       [2013.5    ,    6.5    ,   90.45606,    9.     ,   24.97433,\n",
       "         121.5431 ]])"
      ]
     },
     "execution_count": 16,
     "metadata": {},
     "output_type": "execute_result"
    }
   ],
   "source": [
    "data"
   ]
  },
  {
   "cell_type": "markdown",
   "id": "91f17230-4a00-42fa-baa2-6b72bfe38efa",
   "metadata": {
    "tags": []
   },
   "source": [
    "#### DATA VISUALIZATION"
   ]
  },
  {
   "cell_type": "code",
   "execution_count": 19,
   "id": "94d14fc7-6851-4044-a514-6901cf0c93f7",
   "metadata": {
    "tags": []
   },
   "outputs": [],
   "source": [
    "import matplotlib.pyplot as plt"
   ]
  },
  {
   "cell_type": "code",
   "execution_count": 20,
   "id": "705cc743-8078-40ef-b7ad-41f6e5c52dba",
   "metadata": {
    "tags": []
   },
   "outputs": [
    {
     "data": {
      "text/plain": [
       "(414, 6)"
      ]
     },
     "execution_count": 20,
     "metadata": {},
     "output_type": "execute_result"
    }
   ],
   "source": [
    "data.shape"
   ]
  },
  {
   "cell_type": "code",
   "execution_count": 21,
   "id": "92557d1a-d2c3-4b07-86ef-71cf8d8bd4f2",
   "metadata": {
    "tags": []
   },
   "outputs": [
    {
     "data": {
      "text/plain": [
       "(414,)"
      ]
     },
     "execution_count": 21,
     "metadata": {},
     "output_type": "execute_result"
    }
   ],
   "source": [
    "target.shape"
   ]
  },
  {
   "cell_type": "code",
   "execution_count": 24,
   "id": "47af8037-ce35-41d6-94ae-4d55aff73e45",
   "metadata": {
    "tags": []
   },
   "outputs": [
    {
     "data": {
      "image/png": "[encoded data removed]",
      "text/plain": [
       "<Figure size 640x480 with 1 Axes>"
      ]
     },
     "metadata": {},
     "output_type": "display_data"
    },
    {
     "data": {
      "image/png": "[encoded data removed]",
      "text/plain": [
       "<Figure size 640x480 with 1 Axes>"
      ]
     },
     "metadata": {},
     "output_type": "display_data"
    },
    {
     "data": {
      "image/png": "[encoded data removed]",
      "text/plain": [
       "<Figure size 640x480 with 1 Axes>"
      ]
     },
     "metadata": {},
     "output_type": "display_data"
    },
    {
     "data": {
      "image/png": "[encoded data removed]",
      "text/plain": [
       "<Figure size 640x480 with 1 Axes>"
      ]
     },
     "metadata": {},
     "output_type": "display_data"
    },
    {
     "data": {
      "image/png": "[encoded data removed]",
      "text/plain": [
       "<Figure size 640x480 with 1 Axes>"
      ]
     },
     "metadata": {},
     "output_type": "display_data"
    },
    {
     "data": {
      "image/png": "[encoded data removed]",
      "text/plain": [
       "<Figure size 640x480 with 1 Axes>"
      ]
     },
     "metadata": {},
     "output_type": "display_data"
    }
   ],
   "source": [
    "for x in range(data.shape[1]):\n",
    "    plt.title(f\"{x}\")\n",
    "    plt.scatter(data[:, x], target)\n",
    "    plt.show()"
   ]
  },
  {
   "cell_type": "markdown",
   "id": "a566220b-c69d-46e2-b836-7b0b3166d5a5",
   "metadata": {},
   "source": [
    "#### MODEL"
   ]
  },
  {
   "cell_type": "code",
   "execution_count": 27,
   "id": "0ee0409a-433d-422a-813c-193d517d752e",
   "metadata": {
    "tags": []
   },
   "outputs": [],
   "source": [
    "from sklearn.linear_model import LinearRegression\n",
    "from sklearn.model_selection import train_test_split as TTS"
   ]
  },
  {
   "cell_type": "code",
   "execution_count": 26,
   "id": "321eb710-fa79-4ca5-b494-323f798bade1",
   "metadata": {
    "tags": []
   },
   "outputs": [],
   "source": [
    "lin_regressor = LinearRegression()"
   ]
  },
  {
   "cell_type": "code",
   "execution_count": 28,
   "id": "cbe126a3-b842-4d6f-8ea7-a9c64d18f97b",
   "metadata": {
    "tags": []
   },
   "outputs": [],
   "source": [
    "train_data, test_data, train_labels, test_labels = TTS(data, target, train_size = 0.8, shuffle = True)"
   ]
  },
  {
   "cell_type": "code",
   "execution_count": 30,
   "id": "406822cd-6de8-4d36-94a7-1ba0a732b422",
   "metadata": {
    "tags": []
   },
   "outputs": [
    {
     "name": "stdout",
     "output_type": "stream",
     "text": [
      "train_data shape => (331, 6)\n",
      "test_data shape => (83, 6)\n",
      "train_target shape => (331,)\n",
      "test_target shape => (83,)\n"
     ]
    }
   ],
   "source": [
    "print(f\"train_data shape => {train_data.shape}\")\n",
    "print(f\"test_data shape => {test_data.shape}\")\n",
    "print(f\"train_target shape => {train_labels.shape}\")\n",
    "print(f\"test_target shape => {test_labels.shape}\")\n"
   ]
  },
  {
   "cell_type": "code",
   "execution_count": 36,
   "id": "c87b7874-0542-44c5-aebc-458dba438b46",
   "metadata": {
    "tags": []
   },
   "outputs": [
    {
     "data": {
      "image/png": "[encoded data removed]",
      "text/plain": [
       "<Figure size 640x480 with 1 Axes>"
      ]
     },
     "metadata": {},
     "output_type": "display_data"
    }
   ],
   "source": [
    "labels = \"train_data,train_labels,test_data,test_labels\".split(\",\")\n",
    "plt.pie([train_data.shape[0],train_labels.shape[0],test_data.shape[0],test_labels.shape[0]], labels = labels)\n",
    "plt.show()"
   ]
  },
  {
   "cell_type": "code",
   "execution_count": 37,
   "id": "2c4e514a-d1d7-445f-a6c9-a02537de02f2",
   "metadata": {
    "tags": []
   },
   "outputs": [
    {
     "data": {
      "text/html": [
       "<style>#sk-container-id-1 {color: black;background-color: white;}#sk-container-id-1 pre{padding: 0;}#sk-container-id-1 div.sk-toggleable {background-color: white;}#sk-container-id-1 label.sk-toggleable__label {cursor: pointer;display: block;width: 100%;margin-bottom: 0;padding: 0.3em;box-sizing: border-box;text-align: center;}#sk-container-id-1 label.sk-toggleable__label-arrow:before {content: \"▸\";float: left;margin-right: 0.25em;color: #696969;}#sk-container-id-1 label.sk-toggleable__label-arrow:hover:before {color: black;}#sk-container-id-1 div.sk-estimator:hover label.sk-toggleable__label-arrow:before {color: black;}#sk-container-id-1 div.sk-toggleable__content {max-height: 0;max-width: 0;overflow: hidden;text-align: left;background-color: #f0f8ff;}#sk-container-id-1 div.sk-toggleable__content pre {margin: 0.2em;color: black;border-radius: 0.25em;background-color: #f0f8ff;}#sk-container-id-1 input.sk-toggleable__control:checked~div.sk-toggleable__content {max-height: 200px;max-width: 100%;overflow: auto;}#sk-container-id-1 input.sk-toggleable__control:checked~label.sk-toggleable__label-arrow:before {content: \"▾\";}#sk-container-id-1 div.sk-estimator input.sk-toggleable__control:checked~label.sk-toggleable__label {background-color: #d4ebff;}#sk-container-id-1 div.sk-label input.sk-toggleable__control:checked~label.sk-toggleable__label {background-color: #d4ebff;}#sk-container-id-1 input.sk-hidden--visually {border: 0;clip: rect(1px 1px 1px 1px);clip: rect(1px, 1px, 1px, 1px);height: 1px;margin: -1px;overflow: hidden;padding: 0;position: absolute;width: 1px;}#sk-container-id-1 div.sk-estimator {font-family: monospace;background-color: #f0f8ff;border: 1px dotted black;border-radius: 0.25em;box-sizing: border-box;margin-bottom: 0.5em;}#sk-container-id-1 div.sk-estimator:hover {background-color: #d4ebff;}#sk-container-id-1 div.sk-parallel-item::after {content: \"\";width: 100%;border-bottom: 1px solid gray;flex-grow: 1;}#sk-container-id-1 div.sk-label:hover label.sk-toggleable__label {background-color: #d4ebff;}#sk-container-id-1 div.sk-serial::before {content: \"\";position: absolute;border-left: 1px solid gray;box-sizing: border-box;top: 0;bottom: 0;left: 50%;z-index: 0;}#sk-container-id-1 div.sk-serial {display: flex;flex-direction: column;align-items: center;background-color: white;padding-right: 0.2em;padding-left: 0.2em;position: relative;}#sk-container-id-1 div.sk-item {position: relative;z-index: 1;}#sk-container-id-1 div.sk-parallel {display: flex;align-items: stretch;justify-content: center;background-color: white;position: relative;}#sk-container-id-1 div.sk-item::before, #sk-container-id-1 div.sk-parallel-item::before {content: \"\";position: absolute;border-left: 1px solid gray;box-sizing: border-box;top: 0;bottom: 0;left: 50%;z-index: -1;}#sk-container-id-1 div.sk-parallel-item {display: flex;flex-direction: column;z-index: 1;position: relative;background-color: white;}#sk-container-id-1 div.sk-parallel-item:first-child::after {align-self: flex-end;width: 50%;}#sk-container-id-1 div.sk-parallel-item:last-child::after {align-self: flex-start;width: 50%;}#sk-container-id-1 div.sk-parallel-item:only-child::after {width: 0;}#sk-container-id-1 div.sk-dashed-wrapped {border: 1px dashed gray;margin: 0 0.4em 0.5em 0.4em;box-sizing: border-box;padding-bottom: 0.4em;background-color: white;}#sk-container-id-1 div.sk-label label {font-family: monospace;font-weight: bold;display: inline-block;line-height: 1.2em;}#sk-container-id-1 div.sk-label-container {text-align: center;}#sk-container-id-1 div.sk-container {/* jupyter's `normalize.less` sets `[hidden] { display: none; }` but bootstrap.min.css set `[hidden] { display: none !important; }` so we also need the `!important` here to be able to override the default hidden behavior on the sphinx rendered scikit-learn.org. See: https://github.com/scikit-learn/scikit-learn/issues/21755 */display: inline-block !important;position: relative;}#sk-container-id-1 div.sk-text-repr-fallback {display: none;}</style><div id=\"sk-container-id-1\" class=\"sk-top-container\"><div class=\"sk-text-repr-fallback\"><pre>LinearRegression()</pre><b>In a Jupyter environment, please rerun this cell to show the HTML representation or trust the notebook. <br />On GitHub, the HTML representation is unable to render, please try loading this page with nbviewer.org.</b></div><div class=\"sk-container\" hidden><div class=\"sk-item\"><div class=\"sk-estimator sk-toggleable\"><input class=\"sk-toggleable__control sk-hidden--visually\" id=\"sk-estimator-id-1\" type=\"checkbox\" checked><label for=\"sk-estimator-id-1\" class=\"sk-toggleable__label sk-toggleable__label-arrow\">LinearRegression</label><div class=\"sk-toggleable__content\"><pre>LinearRegression()</pre></div></div></div></div></div>"
      ],
      "text/plain": [
       "LinearRegression()"
      ]
     },
     "execution_count": 37,
     "metadata": {},
     "output_type": "execute_result"
    }
   ],
   "source": [
    "lin_regressor.fit(train_data, train_labels)"
   ]
  },
  {
   "cell_type": "code",
   "execution_count": 39,
   "id": "acbc1a63-d8d8-4c82-85f9-945e155c119c",
   "metadata": {
    "tags": []
   },
   "outputs": [
    {
     "data": {
      "text/plain": [
       "0.6065376614672355"
      ]
     },
     "execution_count": 39,
     "metadata": {},
     "output_type": "execute_result"
    }
   ],
   "source": [
    "lin_regressor.score(train_data, train_labels)"
   ]
  },
  {
   "cell_type": "code",
   "execution_count": 38,
   "id": "8cb049c8-b710-42a6-b4f3-1b7af0cceb5e",
   "metadata": {
    "tags": []
   },
   "outputs": [],
   "source": [
    "prediction = lin_regressor.predict(test_data)"
   ]
  },
  {
   "cell_type": "markdown",
   "id": "5184d918-cddd-4d39-82fa-e441c410c731",
   "metadata": {},
   "source": [
    "#### MODEL EVALUATION"
   ]
  },
  {
   "cell_type": "code",
   "execution_count": 40,
   "id": "a774d83f-fedc-47e1-ae38-3b50675531ac",
   "metadata": {
    "tags": []
   },
   "outputs": [
    {
     "name": "stdout",
     "output_type": "stream",
     "text": [
      "MAE: 6.875754266458206\n",
      "MSE: 90.65532373046815\n",
      "RMSE: 9.521308929473308\n"
     ]
    }
   ],
   "source": [
    "from sklearn.metrics import mean_absolute_error,mean_squared_error\n",
    "\n",
    "mae = mean_absolute_error(y_true = test_labels, y_pred = prediction)\n",
    "mse = mean_squared_error(y_true = test_labels, y_pred = prediction) \n",
    "rmse = mean_squared_error(y_true = test_labels, y_pred = prediction, squared = False)\n",
    "\n",
    "print(\"MAE:\",mae)\n",
    "print(\"MSE:\",mse)\n",
    "print(\"RMSE:\",rmse)\n"
   ]
  },
  {
   "cell_type": "code",
   "execution_count": null,
   "id": "8ec691db-90e3-4460-8ce4-7710ee7af4e6",
   "metadata": {},
   "outputs": [],
   "source": []
  }
 ],
 "metadata": {
  "kernelspec": {
   "display_name": "Python 3 (ipykernel)",
   "language": "python",
   "name": "python3"
  },
  "language_info": {
   "codemirror_mode": {
    "name": "ipython",
    "version": 3
   },
   "file_extension": ".py",
   "mimetype": "text/x-python",
   "name": "python",
   "nbconvert_exporter": "python",
   "pygments_lexer": "ipython3",
   "version": "3.11.3"
  }
 },
 "nbformat": 4,
 "nbformat_minor": 5
}
